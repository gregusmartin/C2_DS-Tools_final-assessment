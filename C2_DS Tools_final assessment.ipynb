{
 "cells": [
  {
   "cell_type": "markdown",
   "id": "830a7597-11e9-4c80-9ddf-ca3d8dbefd43",
   "metadata": {},
   "source": [
    "# Data Science Tools and Ecosystem"
   ]
  },
  {
   "cell_type": "markdown",
   "id": "841d8742-2068-4d5d-97ca-c27ef78522a5",
   "metadata": {},
   "source": [
    "In this notebook, Data Science Tools and Ecosystem are summarized.\n"
   ]
  },
  {
   "cell_type": "markdown",
   "id": "59d3e349-d746-441b-b14b-364198927fe0",
   "metadata": {},
   "source": [
    "**Objectives:**\n",
    "- List popular languages for Data Science\n",
    "- List Data Science tools\n",
    "- show arithmetic expressions in Python"
   ]
  },
  {
   "cell_type": "markdown",
   "id": "ca3f380e-109f-4faf-a2e3-3bbe354a5357",
   "metadata": {},
   "source": [
    "Some of the popular languages that Data Scientists use are:\n",
    "1. Python\n",
    "2. R\n",
    "3. Scala"
   ]
  },
  {
   "cell_type": "markdown",
   "id": "62deaa90-5060-4f8a-b68a-d235151a353f",
   "metadata": {},
   "source": [
    "Some of the commonly used libraries used by Data Scientists include:\n",
    "\n",
    "1. ggplot\n",
    "2. pandas\n",
    "3. plotly"
   ]
  },
  {
   "cell_type": "markdown",
   "id": "72c3ccf4-51b7-498c-872a-338968a1ebb3",
   "metadata": {},
   "source": [
    "| Data Science Tools |\n",
    "|--------------------|\n",
    "|JubyterLab|\n",
    "|Anaconda|\n",
    "|R Studio|\n"
   ]
  },
  {
   "cell_type": "markdown",
   "id": "e62d9e90-ff18-42fa-a87a-e4c8123c0339",
   "metadata": {},
   "source": [
    "### Below are a few examples of evaluating arithmetic expressions in Python\n",
    "- 2+3\n",
    "- 4*4\n",
    "- 6/3\n",
    "  "
   ]
  },
  {
   "cell_type": "code",
   "execution_count": 22,
   "id": "226b99c2-7272-4639-b03f-47f04f77cb83",
   "metadata": {},
   "outputs": [
    {
     "data": {
      "text/plain": [
       "17"
      ]
     },
     "execution_count": 22,
     "metadata": {},
     "output_type": "execute_result"
    }
   ],
   "source": [
    "# This a simple arithmetic expression to mutiply then add integers\n",
    "(3*4)+5"
   ]
  },
  {
   "cell_type": "code",
   "execution_count": 26,
   "id": "a2f65463-fba0-491d-8b8c-42d027042365",
   "metadata": {},
   "outputs": [
    {
     "name": "stdout",
     "output_type": "stream",
     "text": [
      "200 minutes is equal to 3.3333333333333335 hours.\n"
     ]
    }
   ],
   "source": [
    "# This will convert 200 minutes to hours by diving by 60\n",
    "\n",
    "# Define the number of minutes\n",
    "minutes = 200\n",
    "\n",
    "# Convert minutes to hours\n",
    "hours = minutes / 60\n",
    "\n",
    "# Print the result\n",
    "print(f\"{minutes} minutes is equal to {hours} hours.\")"
   ]
  },
  {
   "cell_type": "markdown",
   "id": "a9019108-b78e-4742-bc71-8827e82dd6cd",
   "metadata": {},
   "source": [
    "## Author:\n",
    "Martin Gregus\n"
   ]
  },
  {
   "cell_type": "code",
   "execution_count": null,
   "id": "1a9d2cb3-d630-446f-af27-c7a14bb6c1cd",
   "metadata": {},
   "outputs": [],
   "source": []
  }
 ],
 "metadata": {
  "kernelspec": {
   "display_name": "Python 3 (ipykernel)",
   "language": "python",
   "name": "python3"
  },
  "language_info": {
   "codemirror_mode": {
    "name": "ipython",
    "version": 3
   },
   "file_extension": ".py",
   "mimetype": "text/x-python",
   "name": "python",
   "nbconvert_exporter": "python",
   "pygments_lexer": "ipython3",
   "version": "3.12.4"
  }
 },
 "nbformat": 4,
 "nbformat_minor": 5
}
